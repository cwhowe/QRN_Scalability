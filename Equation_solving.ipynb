{
  "nbformat": 4,
  "nbformat_minor": 0,
  "metadata": {
    "colab": {
      "provenance": [],
      "authorship_tag": "ABX9TyMHFN6veyk3HpHV6vK+oVf6",
      "include_colab_link": true
    },
    "kernelspec": {
      "name": "python3",
      "display_name": "Python 3"
    },
    "language_info": {
      "name": "python"
    }
  },
  "cells": [
    {
      "cell_type": "markdown",
      "metadata": {
        "id": "view-in-github",
        "colab_type": "text"
      },
      "source": [
        "<a href=\"https://colab.research.google.com/github/cwhowe/QRN_Scalability/blob/main/Equation_solving.ipynb\" target=\"_parent\"><img src=\"https://colab.research.google.com/assets/colab-badge.svg\" alt=\"Open In Colab\"/></a>"
      ]
    },
    {
      "cell_type": "code",
      "source": [
        "import numpy as np\n",
        "import seaborn as sns\n",
        "import matplotlib.pyplot as plt"
      ],
      "metadata": {
        "id": "XQvd1rypXges"
      },
      "execution_count": null,
      "outputs": []
    },
    {
      "cell_type": "code",
      "execution_count": null,
      "metadata": {
        "id": "57VSCtuBzhKR"
      },
      "outputs": [],
      "source": [
        "#Defining all of the equations for F\n",
        "\n",
        "#Global variables\n",
        "\n",
        "P2 = .99 #noise parameter\n",
        "eta = .99 #noise parameter\n",
        "L_0 = 0.542 #attenuation length in km\n",
        "\n",
        "def F(n_E,n_L,F_0,N): \n",
        "  return g(n_E,F1(n_L,F_0,N))\n",
        "\n",
        "def F1(n_L,F_0,N):\n",
        "  return S(F_L(n_L,F_0),N)\n",
        "\n",
        "def F_L(n_L,F_0):\n",
        "  return g(n_L,F_0)\n",
        "\n",
        "def S(F,N):\n",
        "  return ((1/4) + (3/4)*(P2*(4*eta**2 - 1)*(1/3))**(N-1) * ((4*F - 1)/3)**N)   \n",
        "\n",
        "def g(n,F):\n",
        "  if (n==0):\n",
        "    return F\n",
        "  else:\n",
        "    return g(n-1,f(F))\n",
        "\n",
        "def f(F):\n",
        "  return (A(F)*B(eta) + C(F)*D(eta) + E(P2))/(H(F)*B(eta) + C(F)*4*D(eta) + 4*E(P2))\n",
        "\n",
        "def A(F):\n",
        "  return (F**2 + ((1/3)*(1-F))**2)\n",
        "def B(eta):\n",
        "  return (eta**2 + (1-eta)**2)\n",
        "def C(F):\n",
        "  return (F*(1/3)*(1-F) + ((1/3)*(1-F))**2)\n",
        "def D(eta):\n",
        "  return (2*eta*(1-eta))\n",
        "def E(P2):\n",
        "  return (1-P2**2)/(8*P2**2)\n",
        "def H(F):\n",
        "  return F**2 + (2/3)*F*(1-F) + (5/9)*(1-F)**2"
      ]
    },
    {
      "cell_type": "code",
      "source": [
        "#Defining all of the equations for R\n",
        "\n",
        "def F_j(n_L,F,N,j):\n",
        "  return g(j-1, F1(n_L,F,N))\n",
        "\n",
        "def P(F):\n",
        "  return (P2**2 * (H(F)*B(eta) + C(F)*4*D(eta) + 4*E(P2)))\n",
        "\n",
        "def R_L(R_0,n_L,d,F_0):\n",
        "  denom = 1\n",
        "  for j in range (1,n_L):\n",
        "    denom*= (2/P(F_L(j-1,F_0)))\n",
        "  numer = R_0 * np.exp(-d/L_0)\n",
        "  return (numer/denom)\n",
        "\n",
        "def R(n_E,n_L,N,d,R_0,F_0):\n",
        "  denom = 1\n",
        "  for j in range (1,n_E):\n",
        "    denom*= (2/P(F_j(n_L,F_0,N,j)))\n",
        "  numer = R_L(R_0,n_L,d,F_0)\n",
        "  return (numer/denom)"
      ],
      "metadata": {
        "id": "yQ_He1IHUQyB"
      },
      "execution_count": null,
      "outputs": []
    },
    {
      "cell_type": "code",
      "source": [
        "#Obtaining the plot and solving for N*d\n",
        "\n",
        "from scipy.optimize import root\n",
        "from scipy.optimize import fsolve\n",
        "\n",
        "#Initialized variables\n",
        "\n",
        "n_E = 1 #number of end-to-end entanglement distillation operations\n",
        "n_L = 1 #number of link-level entanglement distillation operations\n",
        "F_0 = .99 # initial LLE state fidelity\n",
        "R_0 = 10**5 #initial attempt EGR\n",
        "\n",
        "#Defining the points over which we will plot the functions (what values we fix R and F to)\n",
        "\n",
        "fixed_R = np.array([1,5,10,20,50,75,100,500,1000])\n",
        "fixed_F = np.array([.5,.55,.6,.65,.7,.75,.8,.85,.9])\n",
        "Nd_result = np.zeros((len(fixed_R), len(fixed_F)))\n",
        "\n",
        "#Find and add N*d value corresponding to each pair of R,F \n",
        "\n",
        "for i, fix_R in enumerate(fixed_R):\n",
        "    for j, fix_F in enumerate(fixed_F):\n",
        "        def constraint(var):\n",
        "            N, d = var\n",
        "            R_fixed = fix_R\n",
        "            F_fixed = fix_F\n",
        "            return [R(n_E, n_L, N, d, R_0, F_0) - R_fixed, F(n_E, n_L, F_0, N) - F_fixed]\n",
        "        N0 = 1\n",
        "        d0 = 1\n",
        "        N_sol, d_sol = fsolve(constraint, [N0, d0])\n",
        "        N_d_new = N_sol * d_sol\n",
        "        Nd_result[i, j] = N_d_new\n",
        "\n",
        "#Plotting in form of a heat map\n",
        "\n",
        "plt.imshow(Nd_result, cmap='hot', interpolation='nearest', extent=[fixed_R.min(), fixed_R.max(), fixed_F.min(), fixed_F.max()], origin='lower', aspect='auto')\n",
        "plt.colorbar(label='N*d')\n",
        "plt.xlabel('R')\n",
        "plt.ylabel('F')\n",
        "plt.title('Heatmap of N*d for fixed R and F')\n",
        "plt.show()"
      ],
      "metadata": {
        "colab": {
          "base_uri": "https://localhost:8080/",
          "height": 472
        },
        "id": "BC5btVFA-JNG",
        "outputId": "5cdf9977-9239-47ae-81de-915c0f9201fb"
      },
      "execution_count": null,
      "outputs": [
        {
          "output_type": "display_data",
          "data": {
            "text/plain": [
              "<Figure size 640x480 with 2 Axes>"
            ],
            "image/png": "[encoded data removed]"
          },
          "metadata": {}
        }
      ]
    }
  ]
}